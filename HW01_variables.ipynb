{
 "cells": [
  {
   "cell_type": "markdown",
   "metadata": {},
   "source": [
    "[![Open In Colab](https://colab.research.google.com/assets/colab-badge.svg)](https://colab.research.google.com/github/stat10/LabNotebooks-with-HWs/blob/master/01_Variables_Soln.ipynb)"
   ]
  },
  {
   "cell_type": "markdown",
   "metadata": {},
   "source": [
    "## Homework 01 Exercises\n",
    "\n",
    "The following exercises are based on the material from Lab 1. Feel free to open the Python notebook for Lab 1 for reference."
   ]
  },
  {
   "cell_type": "markdown",
   "metadata": {},
   "source": [
    "**Exercise 1:** Create a variable named `y`, assign it a value of $-17.579215 \\times 10^{15}$, and display the value of `y`. The result should be `-1.7579215e+16`."
   ]
  },
  {
   "cell_type": "code",
   "execution_count": null,
   "metadata": {},
   "outputs": [],
   "source": [
    "# Solution\n"
   ]
  },
  {
   "cell_type": "markdown",
   "metadata": {},
   "source": [
    "**Exercise 2:** Write a Python expression that raises $20\\times 3$ to the power $-2\\times 2$. The answer should be `7.71604938271605e-08`"
   ]
  },
  {
   "cell_type": "code",
   "execution_count": null,
   "metadata": {
    "scrolled": true
   },
   "outputs": [],
   "source": [
    "# Solution\n"
   ]
  },
  {
   "cell_type": "markdown",
   "metadata": {},
   "source": [
    "**Exercise 3:** Using the answer from the previous exercise, confirm that $\\sin x \\approx x$ for $x \\ll 1$."
   ]
  },
  {
   "cell_type": "code",
   "execution_count": null,
   "metadata": {},
   "outputs": [],
   "source": [
    "# Solution\n"
   ]
  },
  {
   "cell_type": "markdown",
   "metadata": {},
   "source": [
    "**Exercise 4:** In the vein of the interest calculation example above, suppose we have the following formula for computing monthly payments, $c$, on a house you want to purchase with a loan from a bank [[from Wikipedia](https://en.wikipedia.org/wiki/Compound_interest#Periodic_compounding)]:\n",
    "\n",
    "$c=\\frac{Pr}{\\left[1-{\\frac {\\large 1}{{\\Large (1+r)^n}}}\\right]}$\n",
    "\n",
    "where:\n",
    "\n",
    "* $P$ is the amount borrowed from the bank (i.e. the principal)\n",
    "* $r$ is the monthly interest rate\n",
    "* $n$ is the total number of payments\n",
    "\n",
    "**a:** Suppose we borrow $\\$100000$ at a monthly interest rate of $0.01$, what would be the monthly payment we need to make if $n=120$? We will calculate it as follows. [You can check the calculations below by using the mortgage calculator at: https://www.nerdwallet.com/mortgages/mortgage-payment-calculator. Look at only Principal & interest.]"
   ]
  },
  {
   "cell_type": "code",
   "execution_count": null,
   "metadata": {},
   "outputs": [],
   "source": [
    "# Solution\n"
   ]
  },
  {
   "cell_type": "markdown",
   "metadata": {},
   "source": [
    "**b:** Suppose the annual interest rate is 5%, what would be the monthly payment?\n",
    "\n",
    "*Hint:* Note that $r$ in the formula is the monthly interest rate. You need to divide the annual rate (which is 0.05) by 12."
   ]
  },
  {
   "cell_type": "code",
   "execution_count": null,
   "metadata": {},
   "outputs": [],
   "source": [
    "# Solution\n"
   ]
  },
  {
   "cell_type": "markdown",
   "metadata": {},
   "source": [
    "**c:** Suppose you purchase a house costing $\\$250000$ and make a down payment of $\\$50000$. The annual interest rate is $4\\%$ and the mortgage duration is $15$ years. What woud be the monthly payment?"
   ]
  },
  {
   "cell_type": "code",
   "execution_count": null,
   "metadata": {},
   "outputs": [],
   "source": [
    "# Solution\n"
   ]
  },
  {
   "cell_type": "markdown",
   "metadata": {},
   "source": [
    "**d:** Applying your algebra skills, solve the previous equation for $P$.  Now use the formula you just derived to answer this question.\n",
    "\n",
    "How much of a house (i.e. the principal) you can afford if you can make no more than $\\$1000$ a month in payment? As before, assume the annual interest rate to be $4\\%$ and the morgage duration to be 15 years."
   ]
  },
  {
   "cell_type": "code",
   "execution_count": null,
   "metadata": {},
   "outputs": [],
   "source": [
    "# Solution\n"
   ]
  },
  {
   "cell_type": "code",
   "execution_count": null,
   "metadata": {},
   "outputs": [],
   "source": []
  }
 ],
 "metadata": {
  "kernelspec": {
   "display_name": "Python 3",
   "language": "python",
   "name": "python3"
  },
  "language_info": {
   "codemirror_mode": {
    "name": "ipython",
    "version": 3
   },
   "file_extension": ".py",
   "mimetype": "text/x-python",
   "name": "python",
   "nbconvert_exporter": "python",
   "pygments_lexer": "ipython3",
   "version": "3.6.2"
  }
 },
 "nbformat": 4,
 "nbformat_minor": 2
}
